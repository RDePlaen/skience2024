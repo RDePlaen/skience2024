{
 "cells": [
  {
   "cell_type": "code",
   "execution_count": null,
   "id": "99c65cd6-3eb8-4762-955c-59f66d3d06e8",
   "metadata": {},
   "outputs": [],
   "source": [
    "%matplotlib inline\n",
    "from obspy import read, UTCDateTime, Stream\n",
    "import os\n",
    "import glob\n",
    "import matplotlib.pyplot as plt\n",
    "import seaborn as sns"
   ]
  },
  {
   "cell_type": "code",
   "execution_count": null,
   "id": "d55b2944-b14a-4aca-bc1b-702a52783520",
   "metadata": {},
   "outputs": [],
   "source": [
    "station = \"GRW0\"\n",
    "channel = \"BHZ\"\n"
   ]
  },
  {
   "cell_type": "code",
   "execution_count": null,
   "id": "19885691-ebd9-459d-b90c-e4461b9250ab",
   "metadata": {},
   "outputs": [],
   "source": [
    "event_types = [\"VTB\", \"MP\", \"gugu_long\", \"gugu_short\", \"NN\", \"ND\"] \n",
    "traces = []\n",
    "for typ in event_types:\n",
    "    for file in glob.glob(\"events/%s/*.mseed\" % typ):\n",
    "     tr = read(file).select(station=station,channel=channel)[0]\n",
    "     tr.stats.event_type = typ\n",
    "     traces.append(tr)\n",
    "st = Stream(traces=traces)"
   ]
  },
  {
   "cell_type": "code",
   "execution_count": null,
   "id": "970598f1-ee13-41f4-a7d7-2fc8ac0f2ba8",
   "metadata": {},
   "outputs": [],
   "source": [
    "def plot_st(st):\n",
    "    st.normalize()\n",
    "    fig, ax = plt.subplots(1,1, figsize=(12,12))\n",
    "    colors = sns.color_palette(\"Set2\", len(event_types))\n",
    "    first = []\n",
    "    for i,tr in enumerate(st):\n",
    "        if not tr.stats.event_type in first:\n",
    "            label= tr.stats.event_type\n",
    "            first.append(label)\n",
    "        else:\n",
    "            label = None\n",
    "        plt.plot(tr.times(), tr.data + i, c=colors[event_types.index(tr.stats.event_type)], label=label, lw=1)\n",
    "    plt.margins(0.01)\n",
    "    plt.legend(loc=\"upper center\", ncol=3)\n",
    "    plt.xlabel(\"Times (s)\")\n",
    "    plt.ylabel(\"Event #\")\n",
    "    plt.title(tr.id)\n",
    "    plt.show()"
   ]
  },
  {
   "cell_type": "code",
   "execution_count": null,
   "id": "2f3da36e-4595-4598-9209-dec64c3a9c43",
   "metadata": {},
   "outputs": [],
   "source": [
    "plot_st(st)"
   ]
  },
  {
   "cell_type": "code",
   "execution_count": null,
   "id": "ba11f79b-c249-4502-86ce-e002f397049c",
   "metadata": {},
   "outputs": [],
   "source": [
    "freqlow=1.0\n",
    "freqhigh=10.0\n",
    "\n",
    "st2 = st.copy()\n",
    "# st2.sort()\n",
    "st2.detrend(\"demean\")\n",
    "st2.taper(None, max_length=0.5)\n",
    "st2.filter(\"bandpass\", freqmin=freqlow, freqmax=freqhigh, corners=8, zerophase=True)\n",
    "plot_st(st2)"
   ]
  },
  {
   "cell_type": "code",
   "execution_count": null,
   "id": "6957c929-e1ac-459f-a6d2-4e31a40a9772",
   "metadata": {},
   "outputs": [],
   "source": []
  },
  {
   "cell_type": "code",
   "execution_count": null,
   "id": "ac531db4-1cf7-4d27-a79a-a88e6f7dd2a2",
   "metadata": {},
   "outputs": [],
   "source": []
  }
 ],
 "metadata": {
  "kernelspec": {
   "display_name": "Python 3 (ipykernel)",
   "language": "python",
   "name": "python3"
  },
  "language_info": {
   "codemirror_mode": {
    "name": "ipython",
    "version": 3
   },
   "file_extension": ".py",
   "mimetype": "text/x-python",
   "name": "python",
   "nbconvert_exporter": "python",
   "pygments_lexer": "ipython3",
   "version": "3.11.8"
  }
 },
 "nbformat": 4,
 "nbformat_minor": 5
}
