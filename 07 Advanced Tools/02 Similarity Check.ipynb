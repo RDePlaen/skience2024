{
 "cells": [
  {
   "cell_type": "code",
   "execution_count": null,
   "metadata": {
    "ExecuteTime": {
     "end_time": "2022-02-21T14:05:18.459365Z",
     "start_time": "2022-02-21T14:05:18.419421Z"
    }
   },
   "outputs": [],
   "source": [
    "from IPython.display import display, HTML\n",
    "display(HTML(\"<style>.container { width:90% !important; }; .cell {width:100%} ; .code_cell{width:100%}</style>\"))"
   ]
  },
  {
   "cell_type": "code",
   "execution_count": null,
   "metadata": {
    "ExecuteTime": {
     "end_time": "2022-02-21T15:17:26.940187Z",
     "start_time": "2022-02-21T15:17:26.915313Z"
    }
   },
   "outputs": [],
   "source": [
    "%matplotlib inline\n",
    "import matplotlib\n",
    "import os\n",
    "import glob\n",
    "import datetime\n",
    "import traceback\n",
    "from obspy.core import read, UTCDateTime\n",
    "from obspy import UTCDateTime, Stream, read\n",
    "from obspy.geodetics.base import gps2dist_azimuth\n",
    "from obspy.core.util import AttribDict\n",
    "import matplotlib\n",
    "import matplotlib as mpl\n",
    "new_style = {'grid': False}\n",
    "mpl.rc('axes', **new_style)\n",
    "# mpl.rcParams['font.family'] = 'Helvetica'\n",
    "import matplotlib.pyplot as plt\n",
    "import pandas as pd\n",
    "import numpy as np\n",
    "import seaborn as sns\n",
    "sns.set_style(\"whitegrid\")\n",
    "sns.set_palette(\"dark\")\n",
    "# import tqdm\n",
    "\n",
    "from obspy.signal.cross_correlation import xcorr_pick_correction\n",
    "import warnings\n",
    "from collections import defaultdict\n",
    "from obspy.signal.cross_correlation import correlate,xcorr_max\n",
    "\n",
    "from scipy.cluster.hierarchy import dendrogram, set_link_color_palette, linkage\n",
    "from scipy.spatial.distance import squareform\n",
    "import matplotlib.gridspec as gridspec\n",
    "from matplotlib.colors import rgb2hex, colorConverter\n"
   ]
  },
  {
   "cell_type": "code",
   "execution_count": null,
   "metadata": {
    "ExecuteTime": {
     "end_time": "2022-02-21T14:05:25.935993Z",
     "start_time": "2022-02-21T14:05:24.174696Z"
    }
   },
   "outputs": [],
   "source": [
    "station = \"GRW0\"\n",
    "channel = \"BHZ\"\n",
    "\n",
    "traces = []\n",
    "for typ in [\"VTB\", \"MP\", \"gugu_long\", \"gugu_short\", \"NN\", \"ND\"]:\n",
    "    for file in glob.glob(\"events/%s/*.mseed\" % typ):\n",
    "     tr = read(file).select(station=station,channel=channel)[0]\n",
    "     tr.stats.event_type = typ\n",
    "     traces.append(tr)\n",
    "st = Stream(traces=traces)"
   ]
  },
  {
   "cell_type": "code",
   "execution_count": null,
   "metadata": {
    "ExecuteTime": {
     "end_time": "2022-02-21T14:05:39.319285Z",
     "start_time": "2022-02-21T14:05:39.298342Z"
    }
   },
   "outputs": [],
   "source": [
    "st"
   ]
  },
  {
   "cell_type": "code",
   "execution_count": null,
   "metadata": {
    "ExecuteTime": {
     "end_time": "2022-02-21T15:29:43.734693Z",
     "start_time": "2022-02-21T15:29:42.635633Z"
    }
   },
   "outputs": [],
   "source": [
    "freqlow=1.0\n",
    "freqhigh=10.0\n",
    "\n",
    "st2 = st.copy()\n",
    "# st2.sort()\n",
    "st2.detrend(\"demean\")\n",
    "st2.taper(None, max_length=0.5)\n",
    "st2.filter(\"bandpass\", freqmin=freqlow, freqmax=freqhigh, corners=8, zerophase=True)\n",
    "# st2.resample(100.0)\n",
    "# st2.sort()\n",
    "# st2.filter(\"bandpass\", freqmin=8.0, freqmax=30.0, corners=8) #.plot(equal_scale=False, size=(1200, 1200))\n",
    "st2[0].plot(automerge=False)"
   ]
  },
  {
   "cell_type": "code",
   "execution_count": null,
   "metadata": {
    "ExecuteTime": {
     "end_time": "2022-02-21T15:29:47.657445Z",
     "start_time": "2022-02-21T15:29:47.644434Z"
    }
   },
   "outputs": [],
   "source": [
    "st2"
   ]
  },
  {
   "cell_type": "code",
   "execution_count": null,
   "metadata": {
    "ExecuteTime": {
     "end_time": "2022-02-21T15:29:51.353180Z",
     "start_time": "2022-02-21T15:29:51.334227Z"
    }
   },
   "outputs": [],
   "source": [
    "similarity = np.eye(len(st2))\n",
    "dts = np.zeros((len(st2),len(st2)))"
   ]
  },
  {
   "cell_type": "code",
   "execution_count": null,
   "metadata": {
    "ExecuteTime": {
     "end_time": "2022-02-21T15:29:51.867048Z",
     "start_time": "2022-02-21T15:29:51.848098Z"
    }
   },
   "outputs": [],
   "source": [
    "picks = []\n",
    "relpicks = []\n",
    "for tr in st2:\n",
    "    t = tr.stats.starttime + 5.0\n",
    "    picks.append(t)"
   ]
  },
  {
   "cell_type": "code",
   "execution_count": null,
   "metadata": {
    "ExecuteTime": {
     "end_time": "2022-02-21T16:03:58.652821Z",
     "start_time": "2022-02-21T16:03:58.632875Z"
    }
   },
   "outputs": [],
   "source": [
    "before= 3\n",
    "after = 20\n",
    "freqmin = freqlow\n",
    "freqmax = freqhigh\n",
    "cc_maxlag = 5\n",
    "phase = \"*\"\n",
    "taxis = (np.arange(st2[0].stats.npts) * st2[0].stats.delta)\n",
    "sel = np.where((taxis>=before) & (taxis<=after))[0]"
   ]
  },
  {
   "cell_type": "code",
   "execution_count": null,
   "metadata": {
    "ExecuteTime": {
     "end_time": "2022-02-21T15:55:34.896274Z",
     "start_time": "2022-02-21T15:54:48.087178Z"
    },
    "scrolled": true
   },
   "outputs": [],
   "source": [
    "\n",
    "\n",
    "for i, pick1 in enumerate(picks):\n",
    "    tr1 = st2[i].copy()\n",
    "    print(i, \"vs all\")\n",
    "    for j, pick2 in enumerate(picks):\n",
    "        if j <= i:\n",
    "            continue\n",
    "        \n",
    "        tr2 = st2[j].copy()\n",
    "\n",
    "        with warnings.catch_warnings():\n",
    "            warnings.simplefilter('ignore')\n",
    "            try:\n",
    "#                 dt, coeff = xcorr_pick_correction(pick1, tr1, pick2, tr2, t_before=before, t_after=after, \n",
    "#                                                   cc_maxlag=cc_maxlag, filter=None,\n",
    "#                                                   filter=\"bandpass\", filter_options={\"freqmin\":freqmin, \"freqmax\":freqmax,\"corners\":8},\n",
    "#                                                   plot=False)\n",
    "                cc = correlate(tr1.data[sel], tr2.data[sel], 0)\n",
    "                dt, coeff = xcorr_max(cc)    \n",
    "            except:\n",
    "                traceback.print_exc()\n",
    "                coeff = 0\n",
    "                continue\n",
    "            similarity[i,j] = coeff\n",
    "            similarity[j,i] = coeff\n",
    "            dts[i,j] = dt\n",
    "            dts[j,i] = dt"
   ]
  },
  {
   "cell_type": "code",
   "execution_count": null,
   "metadata": {
    "ExecuteTime": {
     "end_time": "2022-02-21T15:59:51.571846Z",
     "start_time": "2022-02-21T15:59:51.560913Z"
    }
   },
   "outputs": [],
   "source": [
    "similarity = abs(similarity)"
   ]
  },
  {
   "cell_type": "code",
   "execution_count": null,
   "metadata": {
    "ExecuteTime": {
     "end_time": "2022-02-21T15:59:52.712550Z",
     "start_time": "2022-02-21T15:59:51.905074Z"
    }
   },
   "outputs": [],
   "source": [
    "plt.figure(figsize=(10,10))\n",
    "plt.imshow(similarity,interpolation=\"none\", cmap=\"viridis\", vmin=-0., vmax=0.7, )\n",
    "plt.xlabel(\"event ID\")\n",
    "plt.ylabel(\"event ID\")\n",
    "cb = plt.colorbar(shrink=0.5)\n",
    "cb.ax.set_ylabel('similarity')\n",
    "\n",
    "# plt.savefig('matrix %s.%s %s.png'%(sta,comp, phase), dpi=300)\n",
    "plt.show()"
   ]
  },
  {
   "cell_type": "code",
   "execution_count": null,
   "metadata": {
    "ExecuteTime": {
     "end_time": "2022-02-21T16:05:41.282288Z",
     "start_time": "2022-02-21T16:05:21.154080Z"
    }
   },
   "outputs": [],
   "source": [
    "sns.set_palette(sns.color_palette(\"tab20\", 20))\n",
    "palette = sns.color_palette()\n",
    "\n",
    "set_link_color_palette(list(map(rgb2hex, palette)))\n",
    "\n",
    "def get_cluster_classes(den, label='ivl'):\n",
    "    cluster_idxs = defaultdict(str)\n",
    "    for c, pi in zip(den['color_list'], den['icoord']):\n",
    "        for leg in pi[1:3]:\n",
    "            i = (leg - 5.0) / 10.0\n",
    "            if abs(i - int(i)) < 1e-5:\n",
    "#                 cluster_idxs[c].append(int(i))\n",
    "                cluster_idxs[den[label][int(i)]] =  c\n",
    "    return cluster_idxs\n",
    "\n",
    "fig = plt.figure(figsize=(12,20))\n",
    "\n",
    "gs = gridspec.GridSpec(1, 2,\n",
    "                       width_ratios=[4,1],\n",
    "                       )\n",
    "\n",
    "\n",
    "\n",
    "linkage_method = \"complete\"\n",
    "dissimilarity_threshold = 0.6\n",
    "\n",
    "distance = squareform(1-similarity)\n",
    "linkage_matrix = linkage(distance, method=linkage_method)\n",
    "\n",
    "plt.subplot(gs[1])\n",
    "D = dendrogram(linkage_matrix, color_threshold=dissimilarity_threshold, orientation=\"right\",above_threshold_color='k')\n",
    "plt.gca().yaxis.tick_right()\n",
    "plt.gca().yaxis.set_label_position(\"right\")\n",
    "plt.axvline(dissimilarity_threshold, c='k',ls=\"--\")\n",
    "plt.xlabel(\"Dissimilarity\")\n",
    "plt.ylabel(\"Event ID\")\n",
    "plt.setp(plt.gca().get_xticklabels()[0], visible=False)    \n",
    "\n",
    "plt.subplot(gs[0])\n",
    "\n",
    "colors = get_cluster_classes(D)\n",
    "\n",
    "previous = \"w\"\n",
    "previous_idx = 0\n",
    "clusters = {}\n",
    "clusters_shifts = {}\n",
    "cluster_color = {}\n",
    "cluster_id = 0\n",
    "\n",
    "for i, index in enumerate(D['ivl']):\n",
    "    tri = st2[int(index)]\n",
    "#     taxis = np.arange(tri.stats.npts)*tri.stats.delta - Pcorr\n",
    "    tri.normalize()\n",
    "    try:\n",
    "        c = colors[str(int(index))]\n",
    "    except:\n",
    "        c='k'\n",
    "        pass\n",
    "    \n",
    "    \n",
    "    if c != previous:\n",
    "        cluster_id += 1\n",
    "        previous = c\n",
    "        previous_idx = int(index)\n",
    "        shift = 0\n",
    "        shift_to_first = 0\n",
    "    else:\n",
    "        shift = dts[previous_idx, int(index)]\n",
    "        shift_to_first = dts[0, int(index)]\n",
    "    \n",
    "#     max_diff = relpicks[int(index)] - relpicks[previous_idx]\n",
    "    \n",
    "    if cluster_id not in clusters:\n",
    "        clusters[cluster_id] = []\n",
    "        clusters_shifts[cluster_id] = []\n",
    "        cluster_color[cluster_id] = c\n",
    "\n",
    "    clusters[cluster_id].append(int(index))\n",
    "    clusters_shifts[cluster_id].append(shift)\n",
    "\n",
    "    plt.plot(taxis+shift-shift_to_first, tri.data*0.8+i, lw=1,c=c)\n",
    "    \n",
    "\n",
    "plt.xlabel(\"Time relative to pick (s)\")\n",
    "plt.ylim(-.5,i+.5)\n",
    "\n",
    "\n",
    "plt.axvspan(before, after, zorder=-10, alpha=0.1, facecolor='silver')\n",
    "indexes = [int(_) for _ in D['ivl']]\n",
    "dlabel = []\n",
    "for i in np.array(indexes):\n",
    "    d = np.array(picks)[i]\n",
    "    et = st2[i].stats.event_type\n",
    "    label = \"%s \" % et + d.strftime('%Y-%m-%d %H:%M:%S')\n",
    "    dlabel.append(label)\n",
    "# dlabel = [d.strftime('%Y-%m-%d %H:%M:%S')+\" %\" % t.stats.event_type for d,t in zip(np.array(picks)[np.array(indexes)],st2[np.array(indexes)])]\n",
    "\n",
    "# xEvents = picks[np.array(indexes)]\n",
    "yEvents = [st[int(d)].data.ptp() for d in D['ivl']]\n",
    "cEvents = [colors[str(int(d))] for d in D['ivl']]\n",
    "\n",
    "plt.yticks(np.arange(len(D['ivl'])), dlabel)\n",
    "plt.ylabel(\"%s pick date & time\"%phase)\n",
    "\n",
    "plt.suptitle(\"%s.%s - Based on %s pick. Cross-Correlation on [-%.2f:+%.2f] s - Bandpass: [%.1f:%.1f] Hz - Maxlag: %.2f s\" % \n",
    "             (station, channel, phase, before, after, freqmin, freqmax, cc_maxlag))\n",
    "plt.tight_layout()\n",
    "plt.subplots_adjust(top=0.96, wspace=0)\n",
    "\n",
    "plt.setp(plt.gca().get_xticklabels()[-1], visible=False)    \n",
    "\n",
    "plt.xlim(0,25)\n",
    "\n",
    "plt.savefig('similarity %s.%s.png'%(station,channel), dpi=300)\n",
    "plt.show()\n"
   ]
  },
  {
   "cell_type": "code",
   "execution_count": null,
   "metadata": {},
   "outputs": [],
   "source": []
  },
  {
   "cell_type": "code",
   "execution_count": null,
   "metadata": {},
   "outputs": [],
   "source": []
  }
 ],
 "metadata": {
  "kernelspec": {
   "display_name": "Python 3 (ipykernel)",
   "language": "python",
   "name": "python3"
  },
  "language_info": {
   "codemirror_mode": {
    "name": "ipython",
    "version": 3
   },
   "file_extension": ".py",
   "mimetype": "text/x-python",
   "name": "python",
   "nbconvert_exporter": "python",
   "pygments_lexer": "ipython3",
   "version": "3.11.8"
  }
 },
 "nbformat": 4,
 "nbformat_minor": 4
}
