{
 "cells": [
  {
   "cell_type": "code",
   "execution_count": null,
   "id": "99c65cd6-3eb8-4762-955c-59f66d3d06e8",
   "metadata": {},
   "outputs": [],
   "source": [
    "from obspy import read, UTCDateTime\n",
    "from obspy.clients.filesystem.sds import Client\n",
    "import os\n",
    "import pandas as pd\n",
    "import datetime"
   ]
  },
  {
   "cell_type": "code",
   "execution_count": null,
   "id": "f558b85a-2179-4ab6-83c2-27c486c02268",
   "metadata": {},
   "outputs": [],
   "source": [
    "c = Client(sds_root=r\"merapi_data\\data_sds\")"
   ]
  },
  {
   "cell_type": "code",
   "execution_count": null,
   "id": "e46eecc6-4bc5-48cd-89f4-9369a00f7852",
   "metadata": {},
   "outputs": [],
   "source": [
    "def parser(d):\n",
    "    return datetime.datetime.utcfromtimestamp(float(d))"
   ]
  },
  {
   "cell_type": "code",
   "execution_count": null,
   "id": "08c2b4fb-e173-46a2-acca-0bf277f2a7ff",
   "metadata": {},
   "outputs": [],
   "source": [
    "for typ in [\"VTB\", \"MP\"]:\n",
    "    df = pd.read_csv(os.path.join(\"event_lists_original\", \"%s.25sec.list\"%typ), sep='\\s+', header=None, names=[\"starttime\", \"endtime\"], parse_dates=[\"starttime\", \"endtime\"], date_parser=parser)\n",
    "    print(df.head())\n",
    "    os.makedirs(os.path.join('events', \"%s\"%typ), exist_ok=True)\n",
    "    ik = 0\n",
    "    for id, event in df.iterrows():\n",
    "        print(\"Exporting\", event.starttime)\n",
    "        st = c.get_waveforms(\"*\",\"*\",\"*\",\"*\", starttime=UTCDateTime(event.starttime), endtime=UTCDateTime(event.endtime))\n",
    "        if not len(st):\n",
    "            continue\n",
    "        st.write(os.path.join(\"events\", \"%s\"%typ, \"%02i.mseed\"%ik))\n",
    "        ik+=1\n",
    "        del st"
   ]
  },
  {
   "cell_type": "code",
   "execution_count": null,
   "id": "a2738fc5-f47d-4304-a4ec-53a78c54890e",
   "metadata": {},
   "outputs": [],
   "source": [
    "for typ in [\"gugu_long\", \"gugu_short\"]:\n",
    "    df = pd.read_csv(os.path.join(\"event_lists_original\", \"%s.list\"%typ), header=None, names=[\"starttime\"], parse_dates=[\"starttime\"], date_format=\"%Y%m%d%H%M%S.KLT1_1\")\n",
    "    print(df.head())\n",
    "    os.makedirs(os.path.join('events', \"%s\"%typ), exist_ok=True)\n",
    "    ik = 0\n",
    "    for id, event in df.iterrows():\n",
    "        print(\"Exporting\", event.starttime)\n",
    "        st = c.get_waveforms(\"*\",\"*\",\"*\",\"*\", starttime=UTCDateTime(event.starttime), endtime=UTCDateTime(event.starttime)+25)\n",
    "        if not len(st):\n",
    "            continue\n",
    "        st.write(os.path.join(\"events\", \"%s\"%typ, \"%02i.mseed\"%ik))\n",
    "        ik+=1\n",
    "        del st"
   ]
  },
  {
   "cell_type": "code",
   "execution_count": null,
   "id": "6be3f0b0-bbd9-4edd-a47a-1ee4af16b00b",
   "metadata": {},
   "outputs": [],
   "source": [
    "for typ in [\"NN\", \"ND\"]:\n",
    "    df = pd.read_csv(os.path.join(\"event_lists_original\", \"%s.list\"%typ), sep='\\s+', header=None, names=[\"starttime\", \"endtime\"], parse_dates=[\"starttime\", \"endtime\"], date_parser=parser)\n",
    "    print(df.head())\n",
    "    os.makedirs(os.path.join('events', \"%s\"%typ), exist_ok=True)\n",
    "    ik = 0\n",
    "    for id, event in df.iterrows():\n",
    "        print(\"Exporting\", event.starttime)\n",
    "        st = c.get_waveforms(\"*\",\"*\",\"*\",\"*\", starttime=UTCDateTime(event.starttime), endtime=UTCDateTime(event.starttime)+25)\n",
    "        if not len(st):\n",
    "            continue\n",
    "        st.write(os.path.join(\"events\", \"%s\"%typ, \"%02i.mseed\"%ik))\n",
    "        ik+=1\n",
    "        del st"
   ]
  },
  {
   "cell_type": "code",
   "execution_count": null,
   "id": "d55b2944-b14a-4aca-bc1b-702a52783520",
   "metadata": {},
   "outputs": [],
   "source": []
  }
 ],
 "metadata": {
  "kernelspec": {
   "display_name": "Python 3 (ipykernel)",
   "language": "python",
   "name": "python3"
  },
  "language_info": {
   "codemirror_mode": {
    "name": "ipython",
    "version": 3
   },
   "file_extension": ".py",
   "mimetype": "text/x-python",
   "name": "python",
   "nbconvert_exporter": "python",
   "pygments_lexer": "ipython3",
   "version": "3.11.8"
  }
 },
 "nbformat": 4,
 "nbformat_minor": 5
}
