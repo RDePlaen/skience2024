{
 "cells": [
  {
   "cell_type": "markdown",
   "id": "24c72a50-c0d2-43ed-a0a7-28c2dce276b0",
   "metadata": {},
   "source": [
    "# Reduced Displacement notebook\n",
    "\n",
    "In this tutorial, we will explore Reduced Displacement data. \n",
    "\n",
    "Seismometers are (usually) velocity transducers - they generate an electric signal (in Volts) that is proportional to the velocity of ground shaking within a certain passband. Outside that passband, the seismometer no longer generates a voltage proportional to ground velocity. This voltage signal has to be digitized (using an analog-to-digital converter built into the datalogger or on a computer at the observatory), converting the signal units from Volts to digitizer \"Counts\" before it can be examined on a computer. This is a raw seismic signal. To convert this raw seismic signal to a velocity seismogram, we must \"remove the instrument response\". Then by carefully integrating the velocity seismogram, we will have a displacement seismogram. So we have raw, velocity, and displacement, seismograms.\n",
    "\n",
    "RSAM is just one of several related downsampled seismic measurements. Some others supported by the `SAM` package are:\n",
    "\n",
    "<table>\n",
    "    <tr><th>Acronym</th><th>Full name</th><th>Computed from a:</th><th>Instrument corrected?</th><th>Geometrically corrected?</th><th>metric</th></tr>\n",
    "    <tr><td>RSAM</td><td><b>Real-time (or Raw) Seismic Amplitude Measurement</b></td><td>Raw seismogram</td><td>N</td><td>N</td></tr>\n",
    "    <tr><td>VSAM</td><td>Velocity Seismic Amplitude Measurement</td><td>Velocity seismogram</td><td>Y</td><td>N</td></tr>\n",
    "    <tr><td>DSAM</td><td>Displacement Seismic Amplitude Measurement</td><td>Displacement seismogram</td><td>Y</td><td>N</td></tr>\n",
    "    <tr><td>RSEM</td><td>Raw Seismic Energy Measurement</td><td>Raw seismogram</td><td>N</td><td>N</td></tr>   \n",
    "    <tr><td>VSEM</td><td>Velocity Seismic Energy Measurement</td><td>Velocity seismogram</td><td>Y</td><td>N</td></tr>\n",
    "    <tr><td>$V_R$</td><td>Reduced Velocity</td><td>VSAM</td><td>Y</td><td>Y</td></tr>  \n",
    "    <tr><td>$D_R$</td><td><b>Reduced Displacement</b></td><td>DSAM</td><td>Y</td><td>Y</td></tr>   \n",
    "    <tr><td>$E_R$</td><td><b>Reduced Energy</b></td><td>VSEM</td><td>Y</td><td>Y</td></tr>     \n",
    "</table>\n",
    "\n",
    "## 1. Correcting for Geometrical Spreading\n",
    "\n",
    "How do we compare seismograms recorded at different distances from the same volcano? Or from different volcanoes? One thing we can do is to \"reduce\" the seismograms to a common distance, e.g. 1 km, by correcting for geometrical spreading. This is the idea behind Reduced Displacement. \n",
    "\n",
    "Consider a simple half-space velocity model of uniform density. As body waves propagate to greater distances, the wavefront can be thought of as a hemispherical shell, with surface area $2\\pi{r}^2$. If energy is not dissipated inelastically or scattered, the energy per unit area must then diminish $1/{r}^2$. And since amplitude is proportional to the square root of energy, the amplitude of body waves diminishes like 1/r. We call this \"geometrical spreading\".\n",
    "\n",
    "Similarly, surface waves can be thought of as a circular (or cylindrical) wavefront, whose circumference increases like $2\\pi r$, so energy density diminishes like 1/r and surface wave amplitude as $1/\\sqrt(r)$.\n",
    "\n",
    "Reduced Displacement was introduced by Aki & Koyanagi (1981) as a measurement of volcanic tremor amplitude for Kilaeua. Proportional to seismic moment rate, it is the RMS amplitude of a displacement seismogram, corrected for geometrical spreading. \n",
    "\n",
    "For body waves:\n",
    "\n",
    "$D_{R} = rms(U) r$\n",
    "\n",
    "where r = distance from source to station, U = displacement\n",
    "\n",
    "Beyond a few wavelengths, surface waves dominate, and Fehler (1983) determined:\n",
    "\n",
    "$D_{RS} = rms(U) \\sqrt{r \\lambda}$\n",
    "\n",
    "In a series of papers McNutt (1994; 2005; 2008) demonstrated scaling relationships for explosive volcanic eruptions between Reduced Displacement and:\n",
    "- ash column height\n",
    "- Volcanic Explosivity Index (Newhall and Self, 1982)\n",
    "- cross-sectional area of volcanic vent\n",
    "\n",
    "RSAM is generally more useful for seismic field engineers, because it is unfiltered. Reduced Displacement is generally more useful for scientists, as it is a measurement that can be compared from station to station, even on different volcanoes. \n",
    "\n",
    "References:\n",
    "\n",
    "- Aki, K., Koyanagi, R.Y., 1981. Deep volcanic tremor and magma ascent mechanism under Kilauea, Hawaii. J. Geophys. Res. 86, 7095–7110.\n",
    "- Fehler, M., 1983. Observations of volcanic tremor at Mount St. Helens Volcano. J. Geophys. Res. 88, 3476–3484.\n",
    "- McNutt, S.R., 1994. Volcanic tremor amplitude correlated with the Volcanic Explosivity Index and its potential use in determining ash hazards to aviation. Acta Vulcanol. 5, 193–196.\n",
    "- McNutt, S.R., Nishimura, T., 2008. Volcanic tremor during eruptions: Temporal characteristics, scaling and constraints on conduit size and processes. J. Volcanol. Geotherm. Res., 178, 1, 10-18. https://doi.org/10.1016/j.jvolgeores.2008.03.010.\n",
    "- Newhall, C.G., Self, S., 1982. The volcanic explosivity index (VEI): an estimate of explosive magnitude for historical volcanism. J. Geophys. Res. 87, 1231–1238."
   ]
  },
  {
   "cell_type": "markdown",
   "id": "08772277-4804-4220-b516-4167d7d7187d",
   "metadata": {},
   "source": [
    "## 2. Computing Reduced Displacement\n",
    "\n",
    "DSAM is just an instrument-corrected version of RSAM, and Reduced Displacement is just DSAM corrected for geometrical spreading, and so SAM.py was written to support all these different measurements. Here is an algorithm:\n",
    "\n",
    "1. Load raw seismic data as an ObsPy Stream object.\n",
    "2. Load station/instrument response metadata from a StationXML file into an Obspy Inventory object.\n",
    "3. Remove instrument response to convert Stream object to a displacement seismogram.\n",
    "4. Compute DSAM data from this displacement seismogram. \n",
    "6. Define a fixed source location.\n",
    "7. Compute distance from station to source (done internally using source and inventory)\n",
    "8. \"Reduce\" the DSAM object by multiplying by geometrical spreading correction.\n",
    "\n",
    "### 2.1 Simple example"
   ]
  },
  {
   "cell_type": "code",
   "execution_count": null,
   "id": "4185b290-0c56-40bc-9db6-07474bdfaf3e",
   "metadata": {},
   "outputs": [],
   "source": [
    "import os\n",
    "import sys\n",
    "import obspy\n",
    "sys.path.append('../lib')\n",
    "from SAM import DSAM \n",
    "\n",
    "# Load raw seismic data - and set units accordingly\n",
    "DATA_DIR = os.path.join('..', '..', 'data')\n",
    "SDS_DIR = os.path.join(DATA_DIR, 'continuous','SDS')\n",
    "SAM_DIR = os.path.join(DATA_DIR, 'continuous','SAM')\n",
    "RESPONSE_DIR = os.path.join(DATA_DIR, 'responses')\n",
    "\n",
    "#mseedfile = os.path.join(SDS_DIR,'2009','AV','REF','EHZ.D', 'AV.REF..EHZ.D.2009.081' )\n",
    "mseedfile = os.path.join(SDS_DIR,'2003','MV','MBWH','SHZ.D', 'MV.MBWH..SHZ.D.2003.194' )\n",
    "st = obspy.read(mseedfile, 'MSEED')\n",
    "for tr in st:\n",
    "    tr.stats['units'] = 'Counts'\n",
    "\n",
    "# load instrument response, remove instrument response from seismogram\n",
    "#stationxml = os.path.join(RESPONSE_DIR, 'RD.xml')\n",
    "stationxml = os.path.join(RESPONSE_DIR, 'MV.xml')\n",
    "inv = obspy.read_inventory(stationxml)\n",
    "\n",
    "# remove instrument response - and set units accordingly IMPORTANT!\n",
    "#pre_filt = [0.01, 0.02, 25, 50]\n",
    "pre_filt = [0.1, 0.2, 18, 25]\n",
    "st.remove_response(inventory=inv, pre_filt=pre_filt, output=\"DISP\", plot=False) \n",
    "for tr in st:\n",
    "    tr.stats['units'] = 'm'\n",
    "\n",
    "#################################################\n",
    "# So far we just have a displacement seismogram\n",
    "#################################################\n",
    "\n",
    "# Generate a Displacement Seismic Amplitude Measurement (DSAM) object - units must be 'm' else will not work\n",
    "dsamObj = DSAM(stream=st, sampling_interval=60)\n",
    "\n",
    "# Define a source location for Redoubt volcano. Station distances to this lat/lon are used to \"reduce\" the displacement to 1 km distance.\n",
    "#source = {'lat':60.4845, 'lon':-152.7392}\n",
    "source = {'lat':16.7164, 'lon':-62.1654}  \n",
    "print(source)\n",
    "\n",
    "# Generate a Reduced Displacement object, assuming body waves (surfaceWaves=False) and no inelastic attenuation (Q=None)\n",
    "DRobj = dsamObj.compute_reduced_displacement(inv, source, surfaceWaves=False, Q=None)\n",
    "DRobj.plot()\n"
   ]
  },
  {
   "cell_type": "code",
   "execution_count": null,
   "id": "a00daf2b-720f-4ff6-8f7b-9aa108f59efa",
   "metadata": {},
   "outputs": [],
   "source": [
    "# Columns\n",
    "print(DRobj.get_metrics())"
   ]
  },
  {
   "cell_type": "markdown",
   "id": "922932fc-8aa3-43b7-baf0-6d1e9c6ce755",
   "metadata": {},
   "source": [
    "The internal units of DR and DRS objects are metres at a distance of 1 km. To convert this to ${cm}^2$ we must multiply by 10^7. Hence the peaks on each of the last two plots correspond to 4.2 and 4.8 ${cm}^2$ respectively.\n",
    "\n",
    "## 3. Comparing the Reduced Displacement of several eruptions\n",
    "\n",
    "1-minute DSAM data have been pre-computed for several eruptions. We will now load these, compute Reduced Displacement, and compare them. The general syntax we will use to read DSAM data and compute Reduced Displacement is:\n",
    "\n",
    "```\n",
    "dsamObj = DSAM.read(startTime, endTime, SAM_DIR='/path/to/DSAM/data/directory', sampling_interval=sampling_interval, ext=ext)\n",
    "DRobj = dsamObj.compute_reduced_displacement(inventory, source, surfaceWaves=False, Q=None)\n",
    "```\n",
    "We will capture the highest reduced displacement into a results DataFrame, resultsDF.\n",
    "\n",
    "For reasons that will become clearer later, we will compute Reduced Displacement in two frequency bands. The default is 0.5-18.0 Hz. The second is a VLP passband, from 0.02 to 0.2 Hz. We write a function, compute_reduced_displacements, so we don't have to keep repeating the same code block:"
   ]
  },
  {
   "cell_type": "code",
   "execution_count": null,
   "id": "5c626399-be9a-4ee3-90aa-79d10d5f7e3f",
   "metadata": {
    "scrolled": true
   },
   "outputs": [],
   "source": [
    "import os\n",
    "import sys\n",
    "import glob\n",
    "import pandas as pd\n",
    "import obspy\n",
    "sys.path.append('../lib')\n",
    "#import setup_paths\n",
    "#paths = setup_paths.paths\n",
    "from SAM import DSAM\n",
    "\n",
    "resultsDF = pd.DataFrame(columns=['Event', 'DR', 'DRS', 'DRS_VLP'])\n",
    "\n",
    "def compute_reduced_displacements(eventname, dsamObj, source, stationxml, resultsDF, surfaceWaveSpeed_kms=2.0, peakf=None):\n",
    "\n",
    "    dsamObj = dsamObj.select(component='Z')\n",
    "    inv = obspy.read_inventory(stationxml)\n",
    "    \n",
    "    # body wave reduced displacement\n",
    "    DRobj = dsamObj.compute_reduced_displacement(inv, source, surfaceWaves=False, Q=None, wavespeed_kms=surfaceWaveSpeed_kms, peakf=peakf)\n",
    "    DRobj.plot(metrics='rms')\n",
    "    DRmaxrms = DRobj.max(metric='rms')\n",
    "    \n",
    "    # surface wave reduced displacement\n",
    "    DRSobj = dsamObj.compute_reduced_displacement(inv, source, surfaceWaves=True, Q=None, wavespeed_kms=surfaceWaveSpeed_kms, peakf=peakf)\n",
    "    DRSobj.plot(metrics='rms')   \n",
    "    DRSmaxrms = DRSobj.max(metric='rms')\n",
    "    DRSmaxvlp = DRSobj.max(metric='VLP')\n",
    "    \n",
    "    # add to results\n",
    "    resultsDF.loc[len(resultsDF.index)] = [eventname, DRmaxrms, DRSmaxrms, DRSmaxvlp]\n",
    "    "
   ]
  },
  {
   "cell_type": "markdown",
   "id": "943d7569-a2a0-4262-82f1-114423020e30",
   "metadata": {},
   "source": [
    "### 3.1 Event 1: Boxing Day Collapse 1997, Montserrat\n",
    "\n",
    "29 months into the eruption of the Soufriere Hills Volcano, Montserrat, part of the crater wall the lava dome was growing within (and overtopping) suddenly collapsed in a landslide, causing a sideways explosion of the lava dome which effectively removed all traces of villages in the southwest quadrant of Montserrat (the villages had been evacuated more than a year earlier). At this time, there were only 2 stations operational, due to months of pyroclastic flows which had destroyed the capital, Plymouth, the airport, numerous other villages, and several seismic stations, and it was much too dangerous to replace them."
   ]
  },
  {
   "cell_type": "code",
   "execution_count": null,
   "id": "42890433-c78b-474d-b0eb-4dea0eee8e42",
   "metadata": {
    "scrolled": true
   },
   "outputs": [],
   "source": [
    "# Event name\n",
    "eventname1 = 'Boxing Day Collapse 1997'\n",
    "source1 = {'lat':16.71111, 'lon':-62.17722}\n",
    "stationxml1 = os.path.join(RESPONSE_DIR, 'MV.xml')\n",
    "startt1 = obspy.UTCDateTime(1997,12,24,18,0,0)\n",
    "endt1 = obspy.UTCDateTime(1997,12,27,6,0,0)\n",
    "dsamObj1 = DSAM.read(startt1, endt1, SAM_DIR, sampling_interval=60, ext='pickle', trace_ids=['MV.MBWH..SHZ', 'MV.MBLG..SHZ'])\n",
    "compute_reduced_displacements(eventname1, dsamObj1, source1, stationxml1, resultsDF)"
   ]
  },
  {
   "cell_type": "markdown",
   "id": "d1385b10-5df8-41ae-8a63-83161758197e",
   "metadata": {},
   "source": [
    "In this example, for the regular passband, we get very similar values of reduced displacement whether we assume body waves or surface waves - both around 217 ${cm}^2$. In the VLP passband, the signal is 10 times smaller, which isn't surprising as the only stations available had short-period seismometers.\n",
    "\n",
    "### 3.2 July 12th 2003 Dome collapse, Montserrat\n",
    "On July 12th, 2003, over 200 million ${m}^3$ of the lava dome collapse in a series of explosions and pyroclastic flows, over a few hours. Let's compare the Reduced Displacement of this event to the Boxing Day 1997 collapse we just examined. Since this collapse happened mostly down the Tar River Valley, we will pick a source location there, rather than one centred on the lava dome."
   ]
  },
  {
   "cell_type": "code",
   "execution_count": null,
   "id": "0c7784f8-d039-406b-b42f-029bc7b4ce20",
   "metadata": {},
   "outputs": [],
   "source": [
    "eventname2 = '2003/07/12 collapse, Montserrat'\n",
    "stationxml2 = os.path.join(RESPONSE_DIR, 'MV.xml')\n",
    "source2 = {'lat':16.7164, 'lon':-62.1654}  # Tar River\n",
    "startt2 = obspy.UTCDateTime(2003,7,12,23,0,0)\n",
    "endt2 = obspy.UTCDateTime(2003,7,13,5,0,0)\n",
    "dsamObj2 = DSAM.read(startt2, endt2, SAM_DIR=SAM_DIR, sampling_interval=60, ext='pickle', \\\n",
    "                    trace_ids=['MV.MBGH..BHZ', 'MV.MBLG..SHZ', 'MV.MBRY..BHZ', 'MV.MBSS..SHZ', 'MV.MBWH..SHZ'])\n",
    "compute_reduced_displacements(eventname2, dsamObj2, source2, stationxml2, resultsDF)"
   ]
  },
  {
   "cell_type": "markdown",
   "id": "d3aa8c86-edbf-4ec7-af33-be48e657167a",
   "metadata": {},
   "source": [
    "### 3.3 Phreatic eruption, Whakaari, Dec 9th, 2019\n",
    "\n",
    "Whakaari - otherwise known as White Island - is the subaerial tip of a 1600 m high volcano that rises from the seafloor. Tourists arriving by boat and helicopter take a short hike into an open volcanic crater, past fumaroles, to an overlook of the crater lake. Phreatic eruptions are particularly difficult to forecast, as unlike magmatic eruptions, there are no seismic precursors (or indeed any other precuroses) that have been identified. Sadly, this particulary eruption led to the deaths of 22 tourists and guides. Let's compute the Reduced Displacement of this event.\n"
   ]
  },
  {
   "cell_type": "code",
   "execution_count": null,
   "id": "76edb1dc-4717-407b-926d-73604cb188d2",
   "metadata": {
    "scrolled": true
   },
   "outputs": [],
   "source": [
    "eventname3 = '2019/12/09 Phreatic explosion, Whakaari'\n",
    "stationxml3 = os.path.join(RESPONSE_DIR, 'NZ.xml')\n",
    "source3 = {'lat':-37.5217, 'lon':177.185}\n",
    "startt3 = obspy.UTCDateTime(2019,12,9,0,0,0)\n",
    "endt3 = obspy.UTCDateTime(2019,12,9,2,0,0)\n",
    "dsamObj3 = DSAM.read(startt3, endt3, SAM_DIR=SAM_DIR, sampling_interval=60, ext='pickle')\n",
    "compute_reduced_displacements(eventname3, dsamObj3, source3, stationxml3, resultsDF)"
   ]
  },
  {
   "cell_type": "markdown",
   "id": "98e76be5-4a4c-4c62-8a70-92bb99de0e31",
   "metadata": {},
   "source": [
    "So this was a much smaller event - a Reduced Displacement of ~20 ${cm}^2$. It was also short in duration - just a few minutes long. But tourist groups inside the crater stood no chance.\n",
    "\n",
    "### 3.4 Sub-Plinian eruption of Redoubt volcano, March 23, 2009\n",
    "\n",
    "Redoubt volcano in Alaska had been in a state of unrest for 2-3 months, with deep-long-period earthquakes, deformation, swarms, and tremor, before explosively erupting at least 18 times between March 23rd and March 28th, 2009. We look only at March 23rd. There were actually 5 major explosive events on this day, which began at 6:38am (18,000 ft), 7:02am (44,000 ft), 08:14am (43,000 ft), 9:39am (43,000 ft), and 12:31pm (49,000 ft). \n",
    "\n",
    "The seismic data come from an analog telemetry system, and most channels are heavily contaminated by large interference spikes, and if we don't remove these, we'll end up with Reduced Displacement of ~10^7 ${cm}^2$ !! It turns out there are only two stations free of this noise, RDN and REF, although these also become contaminated from around 3pm onwards."
   ]
  },
  {
   "cell_type": "markdown",
   "id": "380ae013-1393-4b1c-b5d8-062f6d92f728",
   "metadata": {},
   "source": [
    "The seismograms look clean, so now we'll compute the DSAM data and apply a clip level of 0.01 mm to the displacement seismogram. This might take 1-2 minutes because it is computing DSAM data for 24 hours of multi-channel data."
   ]
  },
  {
   "cell_type": "code",
   "execution_count": null,
   "id": "9a06ea2b-0adb-46db-8a66-135b73d360e4",
   "metadata": {},
   "outputs": [],
   "source": [
    "startt4 = obspy.UTCDateTime(2009,3,23,6,0,0)\n",
    "endt4 = obspy.UTCDateTime(2009,3,23,15,0,0)\n",
    "dsamObj4 = DSAM.read(startt4, endt4, SAM_DIR=SAM_DIR, sampling_interval=60, ext='pickle')\n",
    "dsamObj4 = dsamObj4.select(channel='EHZ')\n",
    "for station in ['RDE', 'NCT', 'RSO', 'DFR', 'RED', 'RDT']:\n",
    "    dsamObj4.drop(id=f'AV.{station}..EHZ')\n",
    "eventname4 = '2009/03/23 Redoubt Sub-Plinian eruptions'\n",
    "stationxml4 = os.path.join(RESPONSE_DIR, 'AV.xml')\n",
    "source4 = {'lat':60.4845, 'lon':-152.7392}\n",
    "compute_reduced_displacements(eventname4, dsamObj4, source4, stationxml4, resultsDF)"
   ]
  },
  {
   "cell_type": "markdown",
   "id": "a9cc3258-abf2-44df-b836-8ae6f8785615",
   "metadata": {},
   "source": [
    "### 3.5 Hunga Tonga eruption, Jan 15th, 2022\n",
    "\n",
    "Our final example is Hunga Tonga, which on January 15th, 2022, exploded spectacularly, destroying most of the island, generating a tsunami, and seismic, pressure and gravity waves that propagated around the globe several times. "
   ]
  },
  {
   "cell_type": "code",
   "execution_count": null,
   "id": "a2f85776-963c-44e2-b305-c883573582f0",
   "metadata": {},
   "outputs": [],
   "source": [
    "from obspy.clients.filesystem.sds import Client as sdsclient\n",
    "eventname5 = 'Hunga Tonga, 2022/01/15'\n",
    "mySDSclient = sdsclient('/data/SDS')\n",
    "startt5 = obspy.UTCDateTime(2022,1,15,3,30,0)\n",
    "endt5 = obspy.UTCDateTime(2022,1,15,10,0,0)\n",
    "st = mySDSclient.get_waveforms(\"II\", \"MSVF\", \"10\", \"BHZ\", startt5, endt5)\n",
    "for tr in st:\n",
    "    tr.stats.units='Counts'\n",
    "st.plot(equal_scale=False);"
   ]
  },
  {
   "cell_type": "code",
   "execution_count": null,
   "id": "8df32797-9b33-4123-bb69-a2f789cb0fb7",
   "metadata": {},
   "outputs": [],
   "source": [
    "pre_filt = [0.04, 0.05, 18, 25]\n",
    "stationxml5 = os.path.join(RESPONSE_DIR, 'II.xml')\n",
    "inv = obspy.read_inventory(stationxml5)\n",
    "st.remove_response(inventory=inv, pre_filt=pre_filt, output=\"DISP\", plot=False) \n",
    "for tr in st:\n",
    "    tr.stats['units'] = 'm'\n",
    "\n",
    "#################################################\n",
    "# So far we just have a displacement seismogram\n",
    "#################################################\n",
    "\n",
    "# Generate a Displacement Seismic Amplitude Measurement (DSAM) object - units must be 'm' else will not work\n",
    "dsamObj5 = DSAM(stream=st, sampling_interval=60)\n",
    "\n",
    "source5 = {'lat':-20.57, 'lon':-175.38}\n",
    "\n",
    "compute_reduced_displacements(eventname5, dsamObj5, source5, stationxml5, resultsDF, surfaceWaveSpeed_kms=3.0)"
   ]
  },
  {
   "cell_type": "markdown",
   "id": "40b7a333-357e-4708-81ef-9764ddfcd804",
   "metadata": {},
   "source": [
    "## 4. Results"
   ]
  },
  {
   "cell_type": "code",
   "execution_count": null,
   "id": "b7248849-fd4d-4774-9c28-253505ffb768",
   "metadata": {},
   "outputs": [],
   "source": [
    "display(resultsDF)"
   ]
  },
  {
   "cell_type": "markdown",
   "id": "a60457c4-3157-4070-8cbb-13d3b96732c4",
   "metadata": {},
   "source": [
    "Which values are reasonable to accept?\n",
    "- For event 0, there were only short-period seismometers available, so the VLP-band results should be ignored. Since we are at local distances, we expect body waves to dominate, so we choose $D_R$ over $D_{RS}$ and accept 218 ${cm}^2$.\n",
    "- For event 1, while broadband seismometers were available, the VLP-band results are lower. Again, we prefer $D_R$ over $D_{RS}$, since we are at local distances, so we accept 342 ${cm}^2$.\n",
    "- For event 2, while the VLP bands show higher results, Whakaari is a small island, so the VLP energy likely comes from ocean noise. Again, we are at the local scale, so we accept 18.8 ${cm}^2$.\n",
    "- For event 3, Redoubt is coastal, and we are at local distances, so we choose $D_R$, and accept 64 ${cm}^2$.\n",
    "- For event 4, station MSVF is about 760 km from Hunga Tonga, so surface waves dominate, and most of the signal is between 0.01 and 0.6 Hz. Is the $D_{RS}^{VLP}$ value of 39,000 ${cm}^2$ reasonable? \n",
    "\n",
    "Clearly, we must be very careful applying the same measurements at local, regional, and global scales!\n",
    "\n",
    "#### CAVEAT: We ignored inelastic attenuation in this analysis. Including it would make Reduced Displacement estimates even higher!"
   ]
  },
  {
   "cell_type": "markdown",
   "id": "ac677797-a918-4f20-9120-d61903a79636",
   "metadata": {},
   "source": [
    "Finally, there is a sort of \"magnitude scale\" for volcanic eruptions called the Volcanic Explosivity Index (VEI), which similar to earthquake magnitude scales, runs from about 1 to 8. However, VEI is not an instrumental measurement, and instead is estimated from the volume of deposits found, and the height an ash column reaches, and other things. Hunga Tonga was estimated by different researchers to be either a VEI=5 or VEI=6 eruption, so if we fix that at VEI=5.5 and throw caution to the wind, here are instrumental VEI estimates for the other events above too:"
   ]
  },
  {
   "cell_type": "code",
   "execution_count": null,
   "id": "173b5a83-ebf3-4ad7-a167-1035106d9b05",
   "metadata": {},
   "outputs": [],
   "source": [
    "import numpy as np\n",
    "correction = 5.5 - np.log10(39142.68)\n",
    "for DR  in [218.12, 341.51, 18.82, 64.02, 39142.68]:\n",
    "    VEI = np.log10(DR) + correction\n",
    "    print(f'DR={DR:.1f}, VEI={VEI:.1f}')"
   ]
  },
  {
   "cell_type": "markdown",
   "id": "06eaa2bb-582e-4349-9f70-cc255c78bb70",
   "metadata": {},
   "source": [
    "They do actually seem quite reasonable! :-p"
   ]
  }
 ],
 "metadata": {
  "kernelspec": {
   "display_name": "Python 3 (ipykernel)",
   "language": "python",
   "name": "python3"
  },
  "language_info": {
   "codemirror_mode": {
    "name": "ipython",
    "version": 3
   },
   "file_extension": ".py",
   "mimetype": "text/x-python",
   "name": "python",
   "nbconvert_exporter": "python",
   "pygments_lexer": "ipython3",
   "version": "3.11.8"
  }
 },
 "nbformat": 4,
 "nbformat_minor": 5
}
