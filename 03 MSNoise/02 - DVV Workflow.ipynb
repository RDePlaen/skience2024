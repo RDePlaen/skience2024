{
 "cells": [
  {
   "cell_type": "code",
   "execution_count": null,
   "id": "4fb9730b",
   "metadata": {
    "ExecuteTime": {
     "end_time": "2023-02-27T13:51:32.528549Z",
     "start_time": "2023-02-27T13:51:32.504613Z"
    }
   },
   "outputs": [],
   "source": [
    "%matplotlib inline\n",
    "import datetime\n",
    "import matplotlib.pyplot as plt\n",
    "import glob\n",
    "import os\n",
    "from obspy import read, UTCDateTime, read_inventory\n",
    "from obspy.signal import PPSD\n",
    "import warnings\n",
    "import pandas as pd\n",
    "import numpy as np\n",
    "import matplotlib.gridspec as gridspec\n",
    "from matplotlib.dates import DateFormatter\n",
    "from pandas.plotting import register_matplotlib_converters\n",
    "register_matplotlib_converters()\n",
    "plt.style.use(\"ggplot\")\n",
    "\n",
    "from msnoise.api import *"
   ]
  },
  {
   "cell_type": "code",
   "execution_count": null,
   "id": "458207f2-5a39-4c50-b299-daee31de0c17",
   "metadata": {},
   "outputs": [],
   "source": [
    "# connect to the database\n",
    "db = connect()\n",
    "params = get_params(db)"
   ]
  },
  {
   "cell_type": "code",
   "execution_count": null,
   "id": "641729e6-eab7-48f3-ba8d-86a216aca831",
   "metadata": {},
   "outputs": [],
   "source": [
    "! msnoise info -j"
   ]
  },
  {
   "cell_type": "markdown",
   "id": "176a9ddb",
   "metadata": {},
   "source": [
    "compute the mwcs & dtt"
   ]
  },
  {
   "cell_type": "code",
   "execution_count": null,
   "id": "2d62dae3",
   "metadata": {},
   "outputs": [],
   "source": [
    "! msnoise -q -t 5 cc dvv compute_mwcs"
   ]
  },
  {
   "cell_type": "code",
   "execution_count": null,
   "id": "6efcc211-ef2d-4d4b-a841-00074533b5dc",
   "metadata": {},
   "outputs": [],
   "source": [
    "! msnoise -q -t 5 cc dvv compute_dtt"
   ]
  },
  {
   "cell_type": "code",
   "execution_count": null,
   "id": "01ae107c-f353-4d1d-bc88-af4d66d81c38",
   "metadata": {},
   "outputs": [],
   "source": [
    "! msnoise cc dvv compute_dvv"
   ]
  },
  {
   "cell_type": "markdown",
   "id": "a5ee68e6",
   "metadata": {},
   "source": [
    "plot the final results\n",
    "\n",
    "examples:\n",
    "\n",
    "- msnoise cc dvv plot dvv -f 1\n",
    "- msnoise cc dvv plot dvv -f 2 -m 2"
   ]
  },
  {
   "cell_type": "code",
   "execution_count": null,
   "id": "14a7e2fc-a2b7-4646-a528-fa1729fbbc75",
   "metadata": {},
   "outputs": [],
   "source": [
    "from msnoise.plots.dvv import main as plot_dvv\n",
    "for filterid in [1, 2]:\n",
    "    plot_dvv(filterid=filterid, show=False)\n",
    "    for ax in plt.gcf().axes:\n",
    "        plt.sca(ax)\n",
    "        plt.axvline(datetime.datetime(2014,6,21,),c='r', ls='--')\n",
    "    plt.show()"
   ]
  },
  {
   "cell_type": "markdown",
   "id": "f3cb3d45-2144-4da3-ae44-02245f1d9204",
   "metadata": {},
   "source": [
    "Using the coda window dynamically from the interstation distance"
   ]
  },
  {
   "cell_type": "code",
   "execution_count": null,
   "id": "4e6ef0d0-f06c-4cf1-9850-6e1e89ab2342",
   "metadata": {},
   "outputs": [],
   "source": [
    "update_config(db, name=\"dtt_lag\", value=\"dynamic\")"
   ]
  },
  {
   "cell_type": "code",
   "execution_count": null,
   "id": "69860594-cd55-4c8d-99da-dbac2c70b37d",
   "metadata": {},
   "outputs": [],
   "source": [
    "! msnoise reset DTT --all\n",
    "! msnoise -t 5 cc dvv compute_dtt\n",
    "! msnoise cc dvv compute_dvv"
   ]
  },
  {
   "cell_type": "code",
   "execution_count": null,
   "id": "d7fde536-c8b8-474f-a0dc-f572cdf08d67",
   "metadata": {},
   "outputs": [],
   "source": [
    "from msnoise.plots.dvv import main as plot_dvv\n",
    "for filterid in [1, 2]:\n",
    "    plot_dvv(filterid=filterid, show=False)\n",
    "    for ax in plt.gcf().axes:\n",
    "        plt.sca(ax)\n",
    "        plt.axvline(datetime.datetime(2014,6,21,),c='r', ls='--')\n",
    "    plt.show()"
   ]
  },
  {
   "cell_type": "markdown",
   "id": "bfb1f6b0-b977-4e36-82dc-189c75bda6a4",
   "metadata": {},
   "source": [
    "Or plotting individual pairs:"
   ]
  },
  {
   "cell_type": "code",
   "execution_count": null,
   "id": "fc91273b-1677-4401-808a-338ffd8dd859",
   "metadata": {},
   "outputs": [],
   "source": [
    "filters = get_filters(db)\n",
    "comp = \"ZZ\"\n",
    "\n",
    "for mov_stack in params.mov_stack:\n",
    "    fig, axes = plt.subplots(2,2, figsize=(10,10))\n",
    "    plt.suptitle(mov_stack)\n",
    "    for i, filter in enumerate(filters):\n",
    "        filterid = filter.ref\n",
    "        col = i % 2\n",
    "        for sta1, sta2 in get_station_pairs(db):\n",
    "            row = i // 2\n",
    "            plt.sca(axes[row,col])\n",
    "            for loc1 in sta1.locs():\n",
    "                s1 = \"%s.%s.%s\" % (sta1.net, sta1.sta, loc1)\n",
    "                for loc2 in sta2.locs():\n",
    "                    s2 = \"%s.%s.%s\" % (sta2.net, sta2.sta, loc2)\n",
    "                    if s1 == s2:\n",
    "                        continue\n",
    "                    dvv = compute_dvv(db, filterid, mov_stack, components=comp, params=params, pairs=[(s1,s2),])\n",
    "                    dvv.m *= -100\n",
    "                    dvv.m.plot(label=\"%s:%s\"%(s1,s2), ax=axes[row,col])\n",
    "                    plt.title(\"Filter %i (%.2f - %.2f Hz) - %s\" % (filterid, filter.low, filter.high, comp))\n",
    "            plt.axvline(datetime.date(2014,6,21), c='r', ls='--')\n",
    "            plt.legend()\n",
    "            plt.xlabel(\"\")\n",
    "            plt.ylabel(\"dv/v (%)\")\n",
    "    plt.tight_layout()\n",
    "    plt.show()"
   ]
  },
  {
   "cell_type": "code",
   "execution_count": null,
   "id": "71fab1c5",
   "metadata": {},
   "outputs": [],
   "source": []
  }
 ],
 "metadata": {
  "kernelspec": {
   "display_name": "Python 3 (ipykernel)",
   "language": "python",
   "name": "python3"
  },
  "language_info": {
   "codemirror_mode": {
    "name": "ipython",
    "version": 3
   },
   "file_extension": ".py",
   "mimetype": "text/x-python",
   "name": "python",
   "nbconvert_exporter": "python",
   "pygments_lexer": "ipython3",
   "version": "3.11.8"
  }
 },
 "nbformat": 4,
 "nbformat_minor": 5
}
