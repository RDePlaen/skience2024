{
 "cells": [
  {
   "cell_type": "code",
   "execution_count": null,
   "id": "4fb9730b",
   "metadata": {
    "ExecuteTime": {
     "end_time": "2023-02-27T13:51:32.528549Z",
     "start_time": "2023-02-27T13:51:32.504613Z"
    }
   },
   "outputs": [],
   "source": [
    "%matplotlib inline\n",
    "import datetime\n",
    "import matplotlib.pyplot as plt\n",
    "import glob\n",
    "import os\n",
    "from obspy import read, UTCDateTime, read_inventory\n",
    "from obspy.signal import PPSD\n",
    "import warnings\n",
    "import pandas as pd\n",
    "import numpy as np\n",
    "import matplotlib.gridspec as gridspec\n",
    "from matplotlib.dates import DateFormatter\n",
    "from pandas.plotting import register_matplotlib_converters\n",
    "register_matplotlib_converters()\n",
    "plt.style.use(\"ggplot\")\n",
    "\n",
    "from msnoise.api import *"
   ]
  },
  {
   "cell_type": "code",
   "execution_count": null,
   "id": "a94d8a1e-a2e7-4c2b-97fc-2a3274726aa7",
   "metadata": {},
   "outputs": [],
   "source": [
    "! msnoise db init --tech 1"
   ]
  },
  {
   "cell_type": "code",
   "execution_count": null,
   "id": "458207f2-5a39-4c50-b299-daee31de0c17",
   "metadata": {},
   "outputs": [],
   "source": [
    "# connect to the database\n",
    "db = connect()"
   ]
  },
  {
   "cell_type": "code",
   "execution_count": null,
   "id": "5c4b2f86-0d4f-4fa2-a9a4-f84dbec2b0f1",
   "metadata": {},
   "outputs": [],
   "source": [
    "update_filter(db, ref=1, low=0.1, mwcs_low=0.1, high=1.0, mwcs_high=1.0, mwcs_wlen=12, mwcs_step=4, used=1)\n",
    "update_filter(db, ref=2, low=1, mwcs_low=1, high=2, mwcs_high=2, mwcs_wlen=4, mwcs_step=1, used=1)\n",
    "update_filter(db, ref=3, low=2, mwcs_low=2, high=4, mwcs_high=4, mwcs_wlen=4, mwcs_step=1, used=1)\n",
    "update_filter(db, ref=4, low=4, mwcs_low=4, high=8, mwcs_high=8, mwcs_wlen=2, mwcs_step=1, used=1)\n"
   ]
  },
  {
   "cell_type": "code",
   "execution_count": null,
   "id": "d3e3d4d2",
   "metadata": {
    "ExecuteTime": {
     "end_time": "2023-02-26T08:17:53.897517Z",
     "start_time": "2023-02-26T08:17:34.634019Z"
    }
   },
   "outputs": [],
   "source": [
    "# ! msnoise db execute \"insert into filters (ref, low, mwcs_low, high, mwcs_high, mwcs_wlen, mwcs_step, used) values (1, 0.1, 0.1, 1.0, 1.0, 12.0, 4.0, 1)\"\n",
    "# ! msnoise db execute \"insert into filters (ref, low, mwcs_low, high, mwcs_high, mwcs_wlen, mwcs_step, used) values (2, 1, 1, 2, 2, 12.0, 4.0, 1)\"\n",
    "# ! msnoise db execute \"insert into filters (ref, low, mwcs_low, high, mwcs_high, mwcs_wlen, mwcs_step, used) values (3, 2, 2, 4, 4, 12.0, 4.0, 1)\"\n",
    "# ! msnoise db execute \"insert into filters (ref, low, mwcs_low, high, mwcs_high, mwcs_wlen, mwcs_step, used) values (4, 4, 4, 8, 8, 2.0, 1.0, 1)\""
   ]
  },
  {
   "cell_type": "code",
   "execution_count": null,
   "id": "b3653577-1648-4344-b369-8087e747035e",
   "metadata": {},
   "outputs": [],
   "source": [
    "update_config(db, name=\"data_folder\", value=r\"D:\\DATA\\SDS\")\n",
    "update_config(db, name=\"response_path\", value=r\"D:\\DATA\\RESPONSE\")\n",
    "update_config(db, name=\"maxlag\", value=\"60\")"
   ]
  },
  {
   "cell_type": "code",
   "execution_count": null,
   "id": "73c8aa8b",
   "metadata": {
    "ExecuteTime": {
     "end_time": "2023-02-26T08:18:23.629824Z",
     "start_time": "2023-02-26T08:18:18.757686Z"
    }
   },
   "outputs": [],
   "source": [
    "# ! msnoise config set resampling_method=Decimate\n",
    "# ! msnoise config set data_folder=\"D:/DATA/SDS\"\n",
    "# ! msnoise config set response_path=\"D:/DATA/RESPONSE\""
   ]
  },
  {
   "cell_type": "code",
   "execution_count": null,
   "id": "adb44042431d0f34",
   "metadata": {
    "collapsed": false,
    "jupyter": {
     "outputs_hidden": false
    }
   },
   "outputs": [],
   "source": [
    "! msnoise info"
   ]
  },
  {
   "cell_type": "code",
   "execution_count": null,
   "id": "31c9dc22-239a-4794-b3a7-d2c494ac2b19",
   "metadata": {},
   "outputs": [],
   "source": [
    "! msnoise -v populate"
   ]
  },
  {
   "cell_type": "code",
   "execution_count": null,
   "id": "7487ed87-1a2a-4dee-a33e-21ec156eafe6",
   "metadata": {},
   "outputs": [],
   "source": [
    "for station in get_stations(db, all=True, format=\"raw\"):\n",
    "    print(station.net, station.sta)"
   ]
  },
  {
   "cell_type": "code",
   "execution_count": null,
   "id": "3217b8fd-66f4-4a80-b347-526a25542126",
   "metadata": {},
   "outputs": [],
   "source": [
    "! msnoise -v -t 4 scan_archive --init"
   ]
  },
  {
   "cell_type": "code",
   "execution_count": null,
   "id": "26bb422e-14f9-4444-bffe-3abb241432c5",
   "metadata": {},
   "outputs": [],
   "source": [
    "! msnoise db update_loc_chan"
   ]
  },
  {
   "cell_type": "code",
   "execution_count": null,
   "id": "602dc893-c269-4efb-b6fa-67d554d616c5",
   "metadata": {},
   "outputs": [],
   "source": [
    "from msnoise.plots.data_availability import main as plot_DA"
   ]
  },
  {
   "cell_type": "code",
   "execution_count": null,
   "id": "bca81b68-fef4-4195-888a-db1954046f0b",
   "metadata": {},
   "outputs": [],
   "source": [
    "plot_DA(chan=\"HH?\")"
   ]
  },
  {
   "cell_type": "code",
   "execution_count": null,
   "id": "d9012ace-2893-4513-bb15-dc07d17bc5c8",
   "metadata": {},
   "outputs": [],
   "source": [
    "! msnoise -v new_jobs --init"
   ]
  },
  {
   "cell_type": "code",
   "execution_count": null,
   "id": "641729e6-eab7-48f3-ba8d-86a216aca831",
   "metadata": {},
   "outputs": [],
   "source": [
    "! msnoise info -j"
   ]
  },
  {
   "cell_type": "code",
   "execution_count": null,
   "id": "f4c9b997",
   "metadata": {
    "ExecuteTime": {
     "end_time": "2023-02-26T09:07:35.469608Z",
     "start_time": "2023-02-26T09:07:35.449655Z"
    }
   },
   "outputs": [],
   "source": [
    "! msnoise -t 5 -d 5 -v cc compute_cc"
   ]
  },
  {
   "cell_type": "code",
   "execution_count": null,
   "id": "fd04675a",
   "metadata": {
    "ExecuteTime": {
     "end_time": "2023-02-26T09:39:43.483442Z",
     "start_time": "2023-02-26T09:39:41.529893Z"
    }
   },
   "outputs": [],
   "source": [
    "\n",
    "\n",
    "# Obtain a list of dates between ``start_date`` and ``enddate``\n",
    "start, end, datelist = build_movstack_datelist(db)\n",
    "\n",
    "# Get the list of parameters from the DB:\n",
    "params = get_params(db)\n",
    "\n",
    "# Get the time axis for plotting the CCF:\n",
    "taxis = get_t_axis(db)\n",
    "\n",
    "filter_id = 1\n",
    "\n",
    "# Get the results for two station, filter id=1, ZZ component, mov_stack=(\"1d\",\"1d\") and the results as a 2D array:\n",
    "ccfs = get_results_all(db, \"PF.CSS.00\", \"PF.FOR.00\", filter_id, \"ZZ\", datelist, format=\"xarray\")\n"
   ]
  },
  {
   "cell_type": "code",
   "execution_count": null,
   "id": "6bbdff78-d00a-4e83-9796-5ee7716618c7",
   "metadata": {},
   "outputs": [],
   "source": [
    "ccfs.CCF.plot()"
   ]
  },
  {
   "cell_type": "code",
   "execution_count": null,
   "id": "e4c7528e-df44-40b7-b0d3-a9a40d1862c7",
   "metadata": {},
   "outputs": [],
   "source": [
    "zoom = 20 # +-seconds in the coda"
   ]
  },
  {
   "cell_type": "code",
   "execution_count": null,
   "id": "7fef1f99-96fb-43d1-9918-655f39e6d510",
   "metadata": {},
   "outputs": [],
   "source": [
    "ccfs.CCF.loc[:,-zoom:zoom].plot()"
   ]
  },
  {
   "cell_type": "code",
   "execution_count": null,
   "id": "3c4cbc7f-16dc-4286-94d0-e500cf823ca1",
   "metadata": {},
   "outputs": [],
   "source": [
    "ccfs.CCF.loc[:,-zoom:zoom].resample(times='12h').mean().plot()"
   ]
  },
  {
   "cell_type": "code",
   "execution_count": null,
   "id": "c0f98c39-bd22-4bc2-bdd4-608575b87585",
   "metadata": {},
   "outputs": [],
   "source": [
    "ccfs.CCF.loc[:,-zoom:zoom].resample(times='12h').median().plot()"
   ]
  },
  {
   "cell_type": "code",
   "execution_count": null,
   "id": "d29da03d-77f1-4561-8ac2-e5252920d2c1",
   "metadata": {},
   "outputs": [],
   "source": [
    "fig, ax = plt.subplots(1,1, figsize=(12,5))\n",
    "print(ax)\n",
    "ccfs.CCF.loc[:,-zoom:zoom].mean(axis=0).plot(ax=ax,label=\"mean\")\n",
    "ccfs.CCF.loc[:,-zoom:zoom].median(axis=0).plot(ax=ax, label=\"median\")\n",
    "plt.legend()\n"
   ]
  },
  {
   "cell_type": "markdown",
   "id": "92fe9ad9",
   "metadata": {},
   "source": [
    "Compute the reference stack and plot vs distance:"
   ]
  },
  {
   "cell_type": "code",
   "execution_count": null,
   "id": "2b4857cb",
   "metadata": {},
   "outputs": [],
   "source": [
    "! msnoise config sync\n",
    "! msnoise cc stack -r"
   ]
  },
  {
   "cell_type": "code",
   "execution_count": null,
   "id": "bb4116bf-5781-4993-9745-a50c5bbb0f9b",
   "metadata": {},
   "outputs": [],
   "source": [
    "from msnoise.plots.distance import main as plot_distance\n",
    "plot_distance(filterid=1, components=\"ZZ\", show=False)\n",
    "# plt.xlim(-20,20)\n",
    "plt.show()"
   ]
  },
  {
   "cell_type": "markdown",
   "id": "75632b5f",
   "metadata": {},
   "source": [
    "reset the STACK jobs and run the mov_stack"
   ]
  },
  {
   "cell_type": "code",
   "execution_count": null,
   "id": "d78ab49c",
   "metadata": {},
   "outputs": [],
   "source": [
    "! msnoise reset STACK\n",
    "! msnoise config set mov_stack=(('1d','1d'),('2d','1d'))\n"
   ]
  },
  {
   "cell_type": "code",
   "execution_count": null,
   "id": "eef3f825-d265-4881-a3be-cb383d2fd8d3",
   "metadata": {},
   "outputs": [],
   "source": [
    "from msnoise.s04_stack2 import main as stack\n",
    "# stack(\"mov\", loglevel=\"DEBUG\")"
   ]
  },
  {
   "cell_type": "code",
   "execution_count": null,
   "id": "16289ef1-7bd2-4265-84f6-99bed480b9e0",
   "metadata": {},
   "outputs": [],
   "source": [
    "! msnoise -t 4 cc stack -m"
   ]
  },
  {
   "cell_type": "code",
   "execution_count": null,
   "id": "4bba6aef-144d-4e8e-b566-72785ba285af",
   "metadata": {},
   "outputs": [],
   "source": [
    "! msnoise info -j"
   ]
  },
  {
   "cell_type": "code",
   "execution_count": null,
   "id": "b937a399-801f-487a-9578-fa626c1e0732",
   "metadata": {},
   "outputs": [],
   "source": []
  }
 ],
 "metadata": {
  "kernelspec": {
   "display_name": "Python 3 (ipykernel)",
   "language": "python",
   "name": "python3"
  },
  "language_info": {
   "codemirror_mode": {
    "name": "ipython",
    "version": 3
   },
   "file_extension": ".py",
   "mimetype": "text/x-python",
   "name": "python",
   "nbconvert_exporter": "python",
   "pygments_lexer": "ipython3",
   "version": "3.11.8"
  }
 },
 "nbformat": 4,
 "nbformat_minor": 5
}
